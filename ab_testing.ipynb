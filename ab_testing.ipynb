{
 "cells": [
  {
   "cell_type": "markdown",
   "id": "6733bea4",
   "metadata": {},
   "source": [
    "# Ecommerce Landing Page A/B Testing"
   ]
  },
  {
   "cell_type": "markdown",
   "id": "92bb04ca",
   "metadata": {},
   "source": [
    "## Introduction\n",
    "![images](https://www.leadpages.com/_next/image?url=https%3A%2F%2Fcdn.sanity.io%2Fimages%2F1ux2e04i%2Fproduction%2Ffd589b7e2d13df423596040b64792a6767bebe5e-1580x828.png%3Fauto%3Dformat&w=1920&q=75)\n",
    "*[Source Images](https://www.leadpages.com/blog/ab-testing-split-testing)*\n",
    "\n",
    "\n",
    "A/B testing (also known as bucket testing, split-run testing, or split testing) is a user experience research method. A/B tests consist of a randomized experiment that usually involves two variants (A and B), although the concept can be also extended to multiple variants of the same variable. It includes application of statistical hypothesis testing or \"two-sample hypothesis testing\" as used in the field of statistics. [wikipedia](https://en.wikipedia.org/wiki/A/B_testing)\n",
    "\n",
    "Here, we'll use an e-commerce landing page for A/B testing.  The goal of e-commerce's landing page development is to increase sales. And how many users who \"convert\" who decide to pay for the company's product.  Dataset from [kaggle](https://www.kaggle.com/datasets/putdejudomthai/ecommerce-ab-testing-2022-dataset1)"
   ]
  },
  {
   "cell_type": "markdown",
   "id": "b613a814",
   "metadata": {},
   "source": [
    "## 1. Import Data"
   ]
  },
  {
   "cell_type": "code",
   "execution_count": 3,
   "id": "2ced8a15",
   "metadata": {},
   "outputs": [],
   "source": [
    "# Package/library to data manipulation\n",
    "import pandas as pd\n",
    "import numpy as np\n",
    "\n",
    "# Package/library to visualization\n",
    "import matplotlib.pyplot as plt\n",
    "import seaborn as sns"
   ]
  },
  {
   "cell_type": "code",
   "execution_count": 4,
   "id": "ee2099a5",
   "metadata": {},
   "outputs": [
    {
     "data": {
      "text/html": [
       "<div>\n",
       "<style scoped>\n",
       "    .dataframe tbody tr th:only-of-type {\n",
       "        vertical-align: middle;\n",
       "    }\n",
       "\n",
       "    .dataframe tbody tr th {\n",
       "        vertical-align: top;\n",
       "    }\n",
       "\n",
       "    .dataframe thead th {\n",
       "        text-align: right;\n",
       "    }\n",
       "</style>\n",
       "<table border=\"1\" class=\"dataframe\">\n",
       "  <thead>\n",
       "    <tr style=\"text-align: right;\">\n",
       "      <th></th>\n",
       "      <th>user_id</th>\n",
       "      <th>timestamp</th>\n",
       "      <th>group</th>\n",
       "      <th>landing_page</th>\n",
       "      <th>converted</th>\n",
       "    </tr>\n",
       "  </thead>\n",
       "  <tbody>\n",
       "    <tr>\n",
       "      <th>0</th>\n",
       "      <td>851104</td>\n",
       "      <td>11:48.6</td>\n",
       "      <td>control</td>\n",
       "      <td>old_page</td>\n",
       "      <td>0</td>\n",
       "    </tr>\n",
       "    <tr>\n",
       "      <th>1</th>\n",
       "      <td>804228</td>\n",
       "      <td>01:45.2</td>\n",
       "      <td>control</td>\n",
       "      <td>old_page</td>\n",
       "      <td>0</td>\n",
       "    </tr>\n",
       "    <tr>\n",
       "      <th>2</th>\n",
       "      <td>661590</td>\n",
       "      <td>55:06.2</td>\n",
       "      <td>treatment</td>\n",
       "      <td>new_page</td>\n",
       "      <td>0</td>\n",
       "    </tr>\n",
       "    <tr>\n",
       "      <th>3</th>\n",
       "      <td>853541</td>\n",
       "      <td>28:03.1</td>\n",
       "      <td>treatment</td>\n",
       "      <td>new_page</td>\n",
       "      <td>0</td>\n",
       "    </tr>\n",
       "    <tr>\n",
       "      <th>4</th>\n",
       "      <td>864975</td>\n",
       "      <td>52:26.2</td>\n",
       "      <td>control</td>\n",
       "      <td>old_page</td>\n",
       "      <td>1</td>\n",
       "    </tr>\n",
       "  </tbody>\n",
       "</table>\n",
       "</div>"
      ],
      "text/plain": [
       "   user_id timestamp      group landing_page  converted\n",
       "0   851104   11:48.6    control     old_page          0\n",
       "1   804228   01:45.2    control     old_page          0\n",
       "2   661590   55:06.2  treatment     new_page          0\n",
       "3   853541   28:03.1  treatment     new_page          0\n",
       "4   864975   52:26.2    control     old_page          1"
      ]
     },
     "execution_count": 4,
     "metadata": {},
     "output_type": "execute_result"
    }
   ],
   "source": [
    "data = pd.read_csv('ab_data.csv')\n",
    "data.head()"
   ]
  },
  {
   "cell_type": "markdown",
   "id": "ebf26f9d",
   "metadata": {},
   "source": [
    "- The data have some variable (`user_id`, `time_stamp`, `group`, `landing_page`, `converted`)\n",
    "- `group` : the `control` group represents the original version, while the `treatment` group is exposed to the modified version to evaluate the impact of the changes.\n",
    "- `landing_page` :  Compare the old page and the new page to statistically test whether the landing page redesign has a significant impact on revenue.\n",
    "- `converted` : The `converted` variable is 1 if the user converted (e.g., made a purchase), and 0 if they did not."
   ]
  },
  {
   "cell_type": "code",
   "execution_count": 5,
   "id": "1eed2a8a",
   "metadata": {},
   "outputs": [
    {
     "data": {
      "text/plain": [
       "(294480, 5)"
      ]
     },
     "execution_count": 5,
     "metadata": {},
     "output_type": "execute_result"
    }
   ],
   "source": [
    "# data size\n",
    "data.shape"
   ]
  },
  {
   "cell_type": "markdown",
   "id": "8ab663c4",
   "metadata": {},
   "source": [
    "- There're 294,480 data entries"
   ]
  },
  {
   "cell_type": "markdown",
   "id": "f326a111",
   "metadata": {},
   "source": [
    "Verify whether the `user_id` variable contains duplicate data. Because in A/B testing every user must be unique"
   ]
  },
  {
   "cell_type": "code",
   "execution_count": 6,
   "id": "e6e9f5c5",
   "metadata": {},
   "outputs": [
    {
     "data": {
      "text/plain": [
       "3895"
      ]
     },
     "execution_count": 6,
     "metadata": {},
     "output_type": "execute_result"
    }
   ],
   "source": [
    "data.duplicated(['user_id']).sum()"
   ]
  },
  {
   "cell_type": "markdown",
   "id": "42b702f0",
   "metadata": {},
   "source": [
    "- We found 3,895 users with duplicate entries\n",
    "- We selected only the first row for each user."
   ]
  },
  {
   "cell_type": "code",
   "execution_count": 7,
   "id": "7683ca61",
   "metadata": {},
   "outputs": [],
   "source": [
    "df = data.drop_duplicates(subset='user_id', keep='first')"
   ]
  },
  {
   "cell_type": "code",
   "execution_count": 8,
   "id": "f4ec3458",
   "metadata": {},
   "outputs": [
    {
     "data": {
      "text/plain": [
       "0"
      ]
     },
     "execution_count": 8,
     "metadata": {},
     "output_type": "execute_result"
    }
   ],
   "source": [
    "df.duplicated().sum()"
   ]
  },
  {
   "cell_type": "code",
   "execution_count": 9,
   "id": "40498831",
   "metadata": {},
   "outputs": [
    {
     "data": {
      "text/plain": [
       "user_id         0\n",
       "timestamp       0\n",
       "group           0\n",
       "landing_page    0\n",
       "converted       0\n",
       "dtype: int64"
      ]
     },
     "execution_count": 9,
     "metadata": {},
     "output_type": "execute_result"
    }
   ],
   "source": [
    "df.isnull().sum()"
   ]
  },
  {
   "cell_type": "markdown",
   "id": "94a663ef",
   "metadata": {},
   "source": [
    "- There's no missing values in data entries"
   ]
  },
  {
   "cell_type": "code",
   "execution_count": 10,
   "id": "f060eaa7",
   "metadata": {},
   "outputs": [
    {
     "data": {
      "text/html": [
       "<div>\n",
       "<style scoped>\n",
       "    .dataframe tbody tr th:only-of-type {\n",
       "        vertical-align: middle;\n",
       "    }\n",
       "\n",
       "    .dataframe tbody tr th {\n",
       "        vertical-align: top;\n",
       "    }\n",
       "\n",
       "    .dataframe thead th {\n",
       "        text-align: right;\n",
       "    }\n",
       "</style>\n",
       "<table border=\"1\" class=\"dataframe\">\n",
       "  <thead>\n",
       "    <tr style=\"text-align: right;\">\n",
       "      <th></th>\n",
       "      <th>user_id</th>\n",
       "      <th>timestamp</th>\n",
       "      <th>group</th>\n",
       "      <th>landing_page</th>\n",
       "      <th>converted</th>\n",
       "    </tr>\n",
       "  </thead>\n",
       "  <tbody>\n",
       "    <tr>\n",
       "      <th>0</th>\n",
       "      <td>851104</td>\n",
       "      <td>11:48.6</td>\n",
       "      <td>control</td>\n",
       "      <td>old_page</td>\n",
       "      <td>0</td>\n",
       "    </tr>\n",
       "    <tr>\n",
       "      <th>1</th>\n",
       "      <td>804228</td>\n",
       "      <td>01:45.2</td>\n",
       "      <td>control</td>\n",
       "      <td>old_page</td>\n",
       "      <td>0</td>\n",
       "    </tr>\n",
       "    <tr>\n",
       "      <th>2</th>\n",
       "      <td>661590</td>\n",
       "      <td>55:06.2</td>\n",
       "      <td>treatment</td>\n",
       "      <td>new_page</td>\n",
       "      <td>0</td>\n",
       "    </tr>\n",
       "    <tr>\n",
       "      <th>3</th>\n",
       "      <td>853541</td>\n",
       "      <td>28:03.1</td>\n",
       "      <td>treatment</td>\n",
       "      <td>new_page</td>\n",
       "      <td>0</td>\n",
       "    </tr>\n",
       "    <tr>\n",
       "      <th>4</th>\n",
       "      <td>864975</td>\n",
       "      <td>52:26.2</td>\n",
       "      <td>control</td>\n",
       "      <td>old_page</td>\n",
       "      <td>1</td>\n",
       "    </tr>\n",
       "  </tbody>\n",
       "</table>\n",
       "</div>"
      ],
      "text/plain": [
       "   user_id timestamp      group landing_page  converted\n",
       "0   851104   11:48.6    control     old_page          0\n",
       "1   804228   01:45.2    control     old_page          0\n",
       "2   661590   55:06.2  treatment     new_page          0\n",
       "3   853541   28:03.1  treatment     new_page          0\n",
       "4   864975   52:26.2    control     old_page          1"
      ]
     },
     "execution_count": 10,
     "metadata": {},
     "output_type": "execute_result"
    }
   ],
   "source": [
    "df.head()"
   ]
  },
  {
   "cell_type": "markdown",
   "id": "4386ccf4",
   "metadata": {},
   "source": [
    "At this stage, we need to verify whether the `treatment ` group received the `old landing page` and the `control` group received the new one. Data collection systems can sometimes encounter errors that assign users to the wrong group, so it's important to ensure that each user was shown the correct landing page based on their assigned group.\n",
    "\n",
    "\n",
    "The treatment group is expected to be shown the new landing page, whereas the control group should see the old landing page version."
   ]
  },
  {
   "cell_type": "markdown",
   "id": "f06114fd",
   "metadata": {},
   "source": [
    "Check for incorrect group\n",
    "- Group: `Treatment`\n",
    "- Landing Page: `Old Page`"
   ]
  },
  {
   "cell_type": "code",
   "execution_count": 11,
   "id": "dd1c23da",
   "metadata": {},
   "outputs": [],
   "source": [
    "# Check mismatched groups and landing pages\n",
    "group_name = 'treatment'\n",
    "landing_page_name = 'old_page'\n",
    "\n",
    "# group condition\n",
    "condition_group = df['group'] == group_name\n",
    "condition_page = df['landing_page'] == landing_page_name\n",
    "\n",
    "# data selection\n",
    "data_salah1 = df[condition_group & condition_page]"
   ]
  },
  {
   "cell_type": "code",
   "execution_count": 12,
   "id": "40214ef8",
   "metadata": {},
   "outputs": [
    {
     "data": {
      "text/html": [
       "<div>\n",
       "<style scoped>\n",
       "    .dataframe tbody tr th:only-of-type {\n",
       "        vertical-align: middle;\n",
       "    }\n",
       "\n",
       "    .dataframe tbody tr th {\n",
       "        vertical-align: top;\n",
       "    }\n",
       "\n",
       "    .dataframe thead th {\n",
       "        text-align: right;\n",
       "    }\n",
       "</style>\n",
       "<table border=\"1\" class=\"dataframe\">\n",
       "  <thead>\n",
       "    <tr style=\"text-align: right;\">\n",
       "      <th></th>\n",
       "      <th>user_id</th>\n",
       "      <th>timestamp</th>\n",
       "      <th>group</th>\n",
       "      <th>landing_page</th>\n",
       "      <th>converted</th>\n",
       "    </tr>\n",
       "  </thead>\n",
       "  <tbody>\n",
       "    <tr>\n",
       "      <th>308</th>\n",
       "      <td>857184</td>\n",
       "      <td>34:59.8</td>\n",
       "      <td>treatment</td>\n",
       "      <td>old_page</td>\n",
       "      <td>0</td>\n",
       "    </tr>\n",
       "    <tr>\n",
       "      <th>327</th>\n",
       "      <td>686623</td>\n",
       "      <td>26:40.7</td>\n",
       "      <td>treatment</td>\n",
       "      <td>old_page</td>\n",
       "      <td>0</td>\n",
       "    </tr>\n",
       "    <tr>\n",
       "      <th>357</th>\n",
       "      <td>856078</td>\n",
       "      <td>29:30.4</td>\n",
       "      <td>treatment</td>\n",
       "      <td>old_page</td>\n",
       "      <td>0</td>\n",
       "    </tr>\n",
       "    <tr>\n",
       "      <th>685</th>\n",
       "      <td>666385</td>\n",
       "      <td>11:54.8</td>\n",
       "      <td>treatment</td>\n",
       "      <td>old_page</td>\n",
       "      <td>0</td>\n",
       "    </tr>\n",
       "    <tr>\n",
       "      <th>713</th>\n",
       "      <td>748761</td>\n",
       "      <td>47:44.4</td>\n",
       "      <td>treatment</td>\n",
       "      <td>old_page</td>\n",
       "      <td>0</td>\n",
       "    </tr>\n",
       "  </tbody>\n",
       "</table>\n",
       "</div>"
      ],
      "text/plain": [
       "     user_id timestamp      group landing_page  converted\n",
       "308   857184   34:59.8  treatment     old_page          0\n",
       "327   686623   26:40.7  treatment     old_page          0\n",
       "357   856078   29:30.4  treatment     old_page          0\n",
       "685   666385   11:54.8  treatment     old_page          0\n",
       "713   748761   47:44.4  treatment     old_page          0"
      ]
     },
     "execution_count": 12,
     "metadata": {},
     "output_type": "execute_result"
    }
   ],
   "source": [
    "data_salah1.head()"
   ]
  },
  {
   "cell_type": "code",
   "execution_count": 13,
   "id": "60451c9f",
   "metadata": {},
   "outputs": [
    {
     "data": {
      "text/plain": [
       "Index([   308,    327,    357,    685,    713,    776,    889,   1037,   1106,\n",
       "         1376,\n",
       "       ...\n",
       "       267721, 268031, 269942, 272110, 272930, 274590, 282645, 285987, 286353,\n",
       "       287469],\n",
       "      dtype='int64', length=1038)"
      ]
     },
     "execution_count": 13,
     "metadata": {},
     "output_type": "execute_result"
    }
   ],
   "source": [
    "row_data_salah1 = data_salah1.index\n",
    "row_data_salah1"
   ]
  },
  {
   "cell_type": "markdown",
   "id": "a51f046a",
   "metadata": {},
   "source": [
    "Check for incorrect group\n",
    "- Group: `Control`\n",
    "- Landing Page: `New Page`"
   ]
  },
  {
   "cell_type": "code",
   "execution_count": 14,
   "id": "57b41f3b",
   "metadata": {},
   "outputs": [],
   "source": [
    "# Check mismatched groups and landing pages\n",
    "group_name = 'control'\n",
    "landing_page_name = 'new_page'\n",
    "\n",
    "# group condition\n",
    "condition_group = df['group'] == group_name\n",
    "condition_page = df['landing_page'] == landing_page_name\n",
    "\n",
    "# data selection\n",
    "data_salah2 = df[condition_group & condition_page]"
   ]
  },
  {
   "cell_type": "code",
   "execution_count": 15,
   "id": "1155f61b",
   "metadata": {},
   "outputs": [
    {
     "data": {
      "text/html": [
       "<div>\n",
       "<style scoped>\n",
       "    .dataframe tbody tr th:only-of-type {\n",
       "        vertical-align: middle;\n",
       "    }\n",
       "\n",
       "    .dataframe tbody tr th {\n",
       "        vertical-align: top;\n",
       "    }\n",
       "\n",
       "    .dataframe thead th {\n",
       "        text-align: right;\n",
       "    }\n",
       "</style>\n",
       "<table border=\"1\" class=\"dataframe\">\n",
       "  <thead>\n",
       "    <tr style=\"text-align: right;\">\n",
       "      <th></th>\n",
       "      <th>user_id</th>\n",
       "      <th>timestamp</th>\n",
       "      <th>group</th>\n",
       "      <th>landing_page</th>\n",
       "      <th>converted</th>\n",
       "    </tr>\n",
       "  </thead>\n",
       "  <tbody>\n",
       "    <tr>\n",
       "      <th>22</th>\n",
       "      <td>767017</td>\n",
       "      <td>58:15.0</td>\n",
       "      <td>control</td>\n",
       "      <td>new_page</td>\n",
       "      <td>0</td>\n",
       "    </tr>\n",
       "    <tr>\n",
       "      <th>240</th>\n",
       "      <td>733976</td>\n",
       "      <td>11:16.4</td>\n",
       "      <td>control</td>\n",
       "      <td>new_page</td>\n",
       "      <td>0</td>\n",
       "    </tr>\n",
       "    <tr>\n",
       "      <th>490</th>\n",
       "      <td>808613</td>\n",
       "      <td>44:01.3</td>\n",
       "      <td>control</td>\n",
       "      <td>new_page</td>\n",
       "      <td>0</td>\n",
       "    </tr>\n",
       "    <tr>\n",
       "      <th>846</th>\n",
       "      <td>637639</td>\n",
       "      <td>09:52.7</td>\n",
       "      <td>control</td>\n",
       "      <td>new_page</td>\n",
       "      <td>1</td>\n",
       "    </tr>\n",
       "    <tr>\n",
       "      <th>850</th>\n",
       "      <td>793580</td>\n",
       "      <td>25:33.7</td>\n",
       "      <td>control</td>\n",
       "      <td>new_page</td>\n",
       "      <td>1</td>\n",
       "    </tr>\n",
       "  </tbody>\n",
       "</table>\n",
       "</div>"
      ],
      "text/plain": [
       "     user_id timestamp    group landing_page  converted\n",
       "22    767017   58:15.0  control     new_page          0\n",
       "240   733976   11:16.4  control     new_page          0\n",
       "490   808613   44:01.3  control     new_page          0\n",
       "846   637639   09:52.7  control     new_page          1\n",
       "850   793580   25:33.7  control     new_page          1"
      ]
     },
     "execution_count": 15,
     "metadata": {},
     "output_type": "execute_result"
    }
   ],
   "source": [
    "data_salah2.head()"
   ]
  },
  {
   "cell_type": "code",
   "execution_count": 16,
   "id": "2f0f4eab",
   "metadata": {},
   "outputs": [
    {
     "data": {
      "text/plain": [
       "Index([    22,    240,    490,    846,    850,    988,   1198,   1354,   1474,\n",
       "         1877,\n",
       "       ...\n",
       "       274230, 274434, 275142, 276229, 276876, 277083, 277283, 281176, 281593,\n",
       "       282950],\n",
       "      dtype='int64', length=1006)"
      ]
     },
     "execution_count": 16,
     "metadata": {},
     "output_type": "execute_result"
    }
   ],
   "source": [
    "row_data_salah2 = data_salah2.index\n",
    "row_data_salah2"
   ]
  },
  {
   "cell_type": "markdown",
   "id": "54969207",
   "metadata": {},
   "source": [
    "- join all the wrong row data"
   ]
  },
  {
   "cell_type": "code",
   "execution_count": 17,
   "id": "998556b8",
   "metadata": {},
   "outputs": [
    {
     "data": {
      "text/plain": [
       "array([   308,    327,    357, ..., 281176, 281593, 282950], dtype=int64)"
      ]
     },
     "execution_count": 17,
     "metadata": {},
     "output_type": "execute_result"
    }
   ],
   "source": [
    "row_data_salah = np.hstack([row_data_salah1, row_data_salah2])\n",
    "row_data_salah"
   ]
  },
  {
   "cell_type": "code",
   "execution_count": 18,
   "id": "beb0df79",
   "metadata": {},
   "outputs": [
    {
     "data": {
      "text/html": [
       "<div>\n",
       "<style scoped>\n",
       "    .dataframe tbody tr th:only-of-type {\n",
       "        vertical-align: middle;\n",
       "    }\n",
       "\n",
       "    .dataframe tbody tr th {\n",
       "        vertical-align: top;\n",
       "    }\n",
       "\n",
       "    .dataframe thead th {\n",
       "        text-align: right;\n",
       "    }\n",
       "</style>\n",
       "<table border=\"1\" class=\"dataframe\">\n",
       "  <thead>\n",
       "    <tr style=\"text-align: right;\">\n",
       "      <th></th>\n",
       "      <th>user_id</th>\n",
       "      <th>timestamp</th>\n",
       "      <th>group</th>\n",
       "      <th>landing_page</th>\n",
       "      <th>converted</th>\n",
       "    </tr>\n",
       "  </thead>\n",
       "  <tbody>\n",
       "    <tr>\n",
       "      <th>0</th>\n",
       "      <td>851104</td>\n",
       "      <td>11:48.6</td>\n",
       "      <td>control</td>\n",
       "      <td>old_page</td>\n",
       "      <td>0</td>\n",
       "    </tr>\n",
       "    <tr>\n",
       "      <th>1</th>\n",
       "      <td>804228</td>\n",
       "      <td>01:45.2</td>\n",
       "      <td>control</td>\n",
       "      <td>old_page</td>\n",
       "      <td>0</td>\n",
       "    </tr>\n",
       "    <tr>\n",
       "      <th>2</th>\n",
       "      <td>661590</td>\n",
       "      <td>55:06.2</td>\n",
       "      <td>treatment</td>\n",
       "      <td>new_page</td>\n",
       "      <td>0</td>\n",
       "    </tr>\n",
       "    <tr>\n",
       "      <th>3</th>\n",
       "      <td>853541</td>\n",
       "      <td>28:03.1</td>\n",
       "      <td>treatment</td>\n",
       "      <td>new_page</td>\n",
       "      <td>0</td>\n",
       "    </tr>\n",
       "    <tr>\n",
       "      <th>4</th>\n",
       "      <td>864975</td>\n",
       "      <td>52:26.2</td>\n",
       "      <td>control</td>\n",
       "      <td>old_page</td>\n",
       "      <td>1</td>\n",
       "    </tr>\n",
       "  </tbody>\n",
       "</table>\n",
       "</div>"
      ],
      "text/plain": [
       "   user_id timestamp      group landing_page  converted\n",
       "0   851104   11:48.6    control     old_page          0\n",
       "1   804228   01:45.2    control     old_page          0\n",
       "2   661590   55:06.2  treatment     new_page          0\n",
       "3   853541   28:03.1  treatment     new_page          0\n",
       "4   864975   52:26.2    control     old_page          1"
      ]
     },
     "execution_count": 18,
     "metadata": {},
     "output_type": "execute_result"
    }
   ],
   "source": [
    "data_clean = data.drop(index=row_data_salah)\n",
    "\n",
    "data_clean.head()"
   ]
  },
  {
   "cell_type": "markdown",
   "id": "77b67816",
   "metadata": {},
   "source": [
    "- drop the wrong data"
   ]
  },
  {
   "cell_type": "code",
   "execution_count": 19,
   "id": "2334d9fc",
   "metadata": {},
   "outputs": [
    {
     "data": {
      "text/plain": [
       "(292436, 5)"
      ]
     },
     "execution_count": 19,
     "metadata": {},
     "output_type": "execute_result"
    }
   ],
   "source": [
    "data_clean.shape"
   ]
  },
  {
   "cell_type": "code",
   "execution_count": 20,
   "id": "2357155b",
   "metadata": {},
   "outputs": [
    {
     "data": {
      "text/html": [
       "<div>\n",
       "<style scoped>\n",
       "    .dataframe tbody tr th:only-of-type {\n",
       "        vertical-align: middle;\n",
       "    }\n",
       "\n",
       "    .dataframe tbody tr th {\n",
       "        vertical-align: top;\n",
       "    }\n",
       "\n",
       "    .dataframe thead th {\n",
       "        text-align: right;\n",
       "    }\n",
       "</style>\n",
       "<table border=\"1\" class=\"dataframe\">\n",
       "  <thead>\n",
       "    <tr style=\"text-align: right;\">\n",
       "      <th></th>\n",
       "      <th>user_id</th>\n",
       "      <th>timestamp</th>\n",
       "      <th>group</th>\n",
       "      <th>landing_page</th>\n",
       "      <th>converted</th>\n",
       "    </tr>\n",
       "  </thead>\n",
       "  <tbody>\n",
       "    <tr>\n",
       "      <th>0</th>\n",
       "      <td>851104</td>\n",
       "      <td>11:48.6</td>\n",
       "      <td>control</td>\n",
       "      <td>old_page</td>\n",
       "      <td>0</td>\n",
       "    </tr>\n",
       "    <tr>\n",
       "      <th>1</th>\n",
       "      <td>804228</td>\n",
       "      <td>01:45.2</td>\n",
       "      <td>control</td>\n",
       "      <td>old_page</td>\n",
       "      <td>0</td>\n",
       "    </tr>\n",
       "    <tr>\n",
       "      <th>4</th>\n",
       "      <td>864975</td>\n",
       "      <td>52:26.2</td>\n",
       "      <td>control</td>\n",
       "      <td>old_page</td>\n",
       "      <td>1</td>\n",
       "    </tr>\n",
       "    <tr>\n",
       "      <th>5</th>\n",
       "      <td>936923</td>\n",
       "      <td>20:49.1</td>\n",
       "      <td>control</td>\n",
       "      <td>old_page</td>\n",
       "      <td>0</td>\n",
       "    </tr>\n",
       "    <tr>\n",
       "      <th>7</th>\n",
       "      <td>719014</td>\n",
       "      <td>48:29.5</td>\n",
       "      <td>control</td>\n",
       "      <td>old_page</td>\n",
       "      <td>0</td>\n",
       "    </tr>\n",
       "  </tbody>\n",
       "</table>\n",
       "</div>"
      ],
      "text/plain": [
       "   user_id timestamp    group landing_page  converted\n",
       "0   851104   11:48.6  control     old_page          0\n",
       "1   804228   01:45.2  control     old_page          0\n",
       "4   864975   52:26.2  control     old_page          1\n",
       "5   936923   20:49.1  control     old_page          0\n",
       "7   719014   48:29.5  control     old_page          0"
      ]
     },
     "execution_count": 20,
     "metadata": {},
     "output_type": "execute_result"
    }
   ],
   "source": [
    "data_control = data_clean[data_clean['group'] == 'control']\n",
    "data_control.head()"
   ]
  },
  {
   "cell_type": "markdown",
   "id": "ae20608a",
   "metadata": {},
   "source": [
    "- Now, the data is clean"
   ]
  },
  {
   "cell_type": "markdown",
   "id": "4739d091",
   "metadata": {},
   "source": [
    "## 2. Find the number of users, the number of conversions, and the conversion rate"
   ]
  },
  {
   "cell_type": "markdown",
   "id": "ea70adc7",
   "metadata": {},
   "source": [
    "In this section, we will fill in the table\n",
    "\n",
    "<center>\n",
    "\n",
    "|Group|Total Users|Count Converted|Conversion Rate|\n",
    "|:--|:--:|:--:|:--:|\n",
    "|Control|-|-|-|\n",
    "|Treatment|-|-|-|\n",
    "\n",
    "</center>"
   ]
  },
  {
   "cell_type": "markdown",
   "id": "ebd8da3a",
   "metadata": {},
   "source": [
    "To find that, we must first filter the data based on their group."
   ]
  },
  {
   "cell_type": "code",
   "execution_count": 21,
   "id": "797c365c",
   "metadata": {},
   "outputs": [
    {
     "data": {
      "text/html": [
       "<div>\n",
       "<style scoped>\n",
       "    .dataframe tbody tr th:only-of-type {\n",
       "        vertical-align: middle;\n",
       "    }\n",
       "\n",
       "    .dataframe tbody tr th {\n",
       "        vertical-align: top;\n",
       "    }\n",
       "\n",
       "    .dataframe thead th {\n",
       "        text-align: right;\n",
       "    }\n",
       "</style>\n",
       "<table border=\"1\" class=\"dataframe\">\n",
       "  <thead>\n",
       "    <tr style=\"text-align: right;\">\n",
       "      <th></th>\n",
       "      <th>user_id</th>\n",
       "      <th>timestamp</th>\n",
       "      <th>group</th>\n",
       "      <th>landing_page</th>\n",
       "      <th>converted</th>\n",
       "    </tr>\n",
       "  </thead>\n",
       "  <tbody>\n",
       "    <tr>\n",
       "      <th>2</th>\n",
       "      <td>661590</td>\n",
       "      <td>55:06.2</td>\n",
       "      <td>treatment</td>\n",
       "      <td>new_page</td>\n",
       "      <td>0</td>\n",
       "    </tr>\n",
       "    <tr>\n",
       "      <th>3</th>\n",
       "      <td>853541</td>\n",
       "      <td>28:03.1</td>\n",
       "      <td>treatment</td>\n",
       "      <td>new_page</td>\n",
       "      <td>0</td>\n",
       "    </tr>\n",
       "    <tr>\n",
       "      <th>6</th>\n",
       "      <td>679687</td>\n",
       "      <td>26:46.9</td>\n",
       "      <td>treatment</td>\n",
       "      <td>new_page</td>\n",
       "      <td>1</td>\n",
       "    </tr>\n",
       "    <tr>\n",
       "      <th>8</th>\n",
       "      <td>817355</td>\n",
       "      <td>58:09.0</td>\n",
       "      <td>treatment</td>\n",
       "      <td>new_page</td>\n",
       "      <td>1</td>\n",
       "    </tr>\n",
       "    <tr>\n",
       "      <th>9</th>\n",
       "      <td>839785</td>\n",
       "      <td>11:06.6</td>\n",
       "      <td>treatment</td>\n",
       "      <td>new_page</td>\n",
       "      <td>1</td>\n",
       "    </tr>\n",
       "  </tbody>\n",
       "</table>\n",
       "</div>"
      ],
      "text/plain": [
       "   user_id timestamp      group landing_page  converted\n",
       "2   661590   55:06.2  treatment     new_page          0\n",
       "3   853541   28:03.1  treatment     new_page          0\n",
       "6   679687   26:46.9  treatment     new_page          1\n",
       "8   817355   58:09.0  treatment     new_page          1\n",
       "9   839785   11:06.6  treatment     new_page          1"
      ]
     },
     "execution_count": 21,
     "metadata": {},
     "output_type": "execute_result"
    }
   ],
   "source": [
    "data_treatment = data_clean[data_clean['group'] == 'treatment']\n",
    "data_treatment.head()"
   ]
  },
  {
   "cell_type": "markdown",
   "id": "0a29c592",
   "metadata": {},
   "source": [
    "- Find the total number of users in each group"
   ]
  },
  {
   "cell_type": "code",
   "execution_count": 22,
   "id": "c067b314",
   "metadata": {},
   "outputs": [
    {
     "data": {
      "text/plain": [
       "146196"
      ]
     },
     "execution_count": 22,
     "metadata": {},
     "output_type": "execute_result"
    }
   ],
   "source": [
    "n_control = data_control.shape[0]\n",
    "n_control"
   ]
  },
  {
   "cell_type": "code",
   "execution_count": 23,
   "id": "995233c3",
   "metadata": {},
   "outputs": [
    {
     "data": {
      "text/plain": [
       "146240"
      ]
     },
     "execution_count": 23,
     "metadata": {},
     "output_type": "execute_result"
    }
   ],
   "source": [
    "n_treatment = data_treatment.shape[0]\n",
    "n_treatment"
   ]
  },
  {
   "cell_type": "code",
   "execution_count": 24,
   "id": "99e01d6b",
   "metadata": {},
   "outputs": [
    {
     "data": {
      "text/plain": [
       "17601"
      ]
     },
     "execution_count": 24,
     "metadata": {},
     "output_type": "execute_result"
    }
   ],
   "source": [
    "# Total users converted in the control group\n",
    "\n",
    "# Find data of converted users in the control group\n",
    "data_control_convert = data_control[data_control['converted'] == 1]\n",
    "\n",
    "# Calculate how many users converted\n",
    "n_control_convert = data_control_convert.shape[0]\n",
    "\n",
    "n_control_convert"
   ]
  },
  {
   "cell_type": "code",
   "execution_count": 25,
   "id": "6651044e",
   "metadata": {},
   "outputs": [
    {
     "data": {
      "text/plain": [
       "17374"
      ]
     },
     "execution_count": 25,
     "metadata": {},
     "output_type": "execute_result"
    }
   ],
   "source": [
    "# Total users converted in the treatment group\n",
    "\n",
    "# Find data of converted users in the treatment group\n",
    "data_treatment_convert = data_treatment[data_treatment[\"converted\"] == 1]\n",
    "\n",
    "# Calculate how many users converted\n",
    "n_treatment_convert = data_treatment_convert.shape[0]\n",
    "\n",
    "n_treatment_convert"
   ]
  },
  {
   "cell_type": "code",
   "execution_count": 26,
   "id": "8410f457",
   "metadata": {},
   "outputs": [
    {
     "data": {
      "text/plain": [
       "0.12039317081178691"
      ]
     },
     "execution_count": 26,
     "metadata": {},
     "output_type": "execute_result"
    }
   ],
   "source": [
    "cr_control = n_control_convert / n_control\n",
    "cr_control"
   ]
  },
  {
   "cell_type": "code",
   "execution_count": 27,
   "id": "df4955ee",
   "metadata": {},
   "outputs": [
    {
     "data": {
      "text/plain": [
       "0.118804704595186"
      ]
     },
     "execution_count": 27,
     "metadata": {},
     "output_type": "execute_result"
    }
   ],
   "source": [
    "cr_treatment = n_treatment_convert / n_treatment\n",
    "cr_treatment"
   ]
  },
  {
   "cell_type": "markdown",
   "id": "d613277f",
   "metadata": {},
   "source": [
    "- Now, we can complete the table"
   ]
  },
  {
   "cell_type": "markdown",
   "id": "a4c95aeb",
   "metadata": {},
   "source": [
    "<center>\n",
    "\n",
    "|Group|Total Users|Count Converted|Conversion Rate|\n",
    "|:--|:--:|:--:|:--:|\n",
    "|Control|146196|17601|0.120|\n",
    "|Treatment|146240|17374|0.118|\n",
    "\n",
    "</center>"
   ]
  },
  {
   "cell_type": "code",
   "execution_count": 28,
   "id": "d751583f",
   "metadata": {},
   "outputs": [
    {
     "name": "stderr",
     "output_type": "stream",
     "text": [
      "C:\\Users\\HP\\AppData\\Local\\Temp\\ipykernel_13440\\3996119135.py:11: UserWarning: set_ticklabels() should only be used with a fixed number of ticks, i.e. after set_ticks() or using a FixedLocator.\n",
      "  ax.set_xticklabels(labels=[\"control\", \"treatment\"], fontsize=16)\n"
     ]
    },
    {
     "data": {
      "image/png": "[encoded data removed]",
      "text/plain": [
       "<Figure size 1000x700 with 1 Axes>"
      ]
     },
     "metadata": {},
     "output_type": "display_data"
    }
   ],
   "source": [
    "# Visualization of the conversion rate comparison for each variant\n",
    "fig, ax = plt.subplots(nrows=1, ncols=1, figsize=(10, 7))\n",
    "\n",
    "# Making plot\n",
    "ax.bar(\"control\", cr_control, color=\"steelblue\", label=\"Control\")\n",
    "ax.bar(\"treatment\", cr_treatment, color=\"lightcoral\", label=\"Treatment\")\n",
    "\n",
    "# Styling plot\n",
    "ax.set_ylabel(\"Conversion Rate\", fontsize=16)\n",
    "ax.set_xlabel(\"Group\", fontsize=16)\n",
    "ax.set_xticklabels(labels=[\"control\", \"treatment\"], fontsize=16)\n",
    "ax.legend(fontsize=16)\n",
    "plt.show()"
   ]
  },
  {
   "cell_type": "markdown",
   "id": "bd701368",
   "metadata": {},
   "source": [
    "The conversion rate for the Control group is slightly higher than that of the Treatment group. Specifically, the Control group has a conversion rate of 0.120 (12.0%) with 17,601 conversions out of 146,196 users, while the Treatment group has a conversion rate of 0.118 (11.8%) with 17,374 conversions out of 146,240 users.\n",
    "\n",
    "Although the difference in conversion rates between the two groups is minimal (0.002 or 0.2 percentage points), the Control group performs marginally better in terms of user conversions. Further statistical testing (e.g., a z-test for proportions) would be required to determine whether this difference is statistically significant."
   ]
  },
  {
   "cell_type": "markdown",
   "id": "45c27157",
   "metadata": {},
   "source": [
    "After obtaining the results above, we still cannot draw a conclusion on whether to use the new landing page or stick with the old one. Even though the difference in conversion rates is small, it's crucial to perform statistical testing to confirm whether the difference between the two groups is truly statistically insignificant"
   ]
  },
  {
   "cell_type": "markdown",
   "id": "b0ee2c18",
   "metadata": {},
   "source": [
    "## 3. Statistic Test"
   ]
  },
  {
   "cell_type": "code",
   "execution_count": 29,
   "id": "2d32384a",
   "metadata": {},
   "outputs": [],
   "source": [
    "# Import library\n",
    "import statsmodels.api as sm\n",
    "from statsmodels.stats.proportion import proportions_ztest"
   ]
  },
  {
   "cell_type": "code",
   "execution_count": 30,
   "id": "d7369932",
   "metadata": {},
   "outputs": [],
   "source": [
    "# count convert & total observation\n",
    "count_convert = [n_treatment_convert,n_control_convert]\n",
    "count_observation = [n_treatment,n_control]"
   ]
  },
  {
   "cell_type": "code",
   "execution_count": 31,
   "id": "e2695edb",
   "metadata": {},
   "outputs": [],
   "source": [
    "# Make alternative\n",
    "alternative_option = \"larger\""
   ]
  },
  {
   "cell_type": "code",
   "execution_count": 32,
   "id": "afbcfa9c",
   "metadata": {},
   "outputs": [
    {
     "name": "stdout",
     "output_type": "stream",
     "text": [
      "Z stats : -1.3236\n",
      "P-value : 0.9072\n"
     ]
    }
   ],
   "source": [
    "z_stat, p_value = proportions_ztest(count = count_convert,\n",
    "                                    nobs = count_observation,\n",
    "                                    alternative = alternative_option)\n",
    "\n",
    "print(f\"Z stats : {z_stat:.4f}\")\n",
    "print(f\"P-value : {p_value:.4f}\")"
   ]
  },
  {
   "cell_type": "code",
   "execution_count": 33,
   "id": "1abfdf40",
   "metadata": {},
   "outputs": [
    {
     "data": {
      "text/plain": [
       "-0.0015884662166009145"
      ]
     },
     "execution_count": 33,
     "metadata": {},
     "output_type": "execute_result"
    }
   ],
   "source": [
    "cr_treatment - cr_control"
   ]
  },
  {
   "cell_type": "code",
   "execution_count": null,
   "id": "2e4866b2",
   "metadata": {},
   "outputs": [
    {
     "name": "stdout",
     "output_type": "stream",
     "text": [
      "relatife effect = -1.32 %\n"
     ]
    }
   ],
   "source": [
    "# Additional \n",
    "# We can calculate the relative effect which shows how big the percentage increase or decrease in the conversion rate of the treatment is compared to the control.\n",
    "relative_effect = (cr_treatment - cr_control)/cr_control * 100\n",
    "\n",
    "print(f\"relatife effect = {relative_effect:.3} %\")"
   ]
  },
  {
   "cell_type": "code",
   "execution_count": null,
   "id": "05ff6c05",
   "metadata": {},
   "outputs": [
    {
     "name": "stdout",
     "output_type": "stream",
     "text": [
      "Fail to Reject Null Hypothesis\n"
     ]
    }
   ],
   "source": [
    "# From p-value\n",
    "alpha = 0.05        # confidence level\n",
    "\n",
    "# Making decision based p_value dan alpha\n",
    "if p_value < alpha:\n",
    "    print(\"Reject Null Hypothesis\")\n",
    "else:\n",
    "    print(\"Fail to Reject Null Hypothesis\")"
   ]
  },
  {
   "cell_type": "code",
   "execution_count": 36,
   "id": "e7028c98",
   "metadata": {},
   "outputs": [
    {
     "data": {
      "text/plain": [
       "1.6448536269514722"
      ]
     },
     "execution_count": 36,
     "metadata": {},
     "output_type": "execute_result"
    }
   ],
   "source": [
    "import scipy.stats as stats\n",
    "z_critical = stats.norm.ppf(1 - alpha)\n",
    "\n",
    "z_critical"
   ]
  },
  {
   "cell_type": "code",
   "execution_count": null,
   "id": "3530c986",
   "metadata": {},
   "outputs": [
    {
     "name": "stdout",
     "output_type": "stream",
     "text": [
      "Fail to Reject Null Hypothesis\n"
     ]
    }
   ],
   "source": [
    "# From z-statistics\n",
    "# Make decision based on z_critical and alpha\n",
    "if z_stat > z_critical:\n",
    "    print(\"Reject Null Hypothesis\")\n",
    "else:\n",
    "    print(\"Fail to Reject Null Hypothesis\")"
   ]
  },
  {
   "cell_type": "markdown",
   "id": "26c6776b",
   "metadata": {},
   "source": [
    "### Visualization\n",
    "\n",
    "- we visualization our result statistic test"
   ]
  },
  {
   "cell_type": "code",
   "execution_count": null,
   "id": "29868c0a",
   "metadata": {},
   "outputs": [],
   "source": [
    "import scipy.stats as stats"
   ]
  },
  {
   "cell_type": "code",
   "execution_count": null,
   "id": "672aa113",
   "metadata": {},
   "outputs": [
    {
     "data": {
      "image/png": "[encoded data removed]",
      "text/plain": [
       "<Figure size 1000x700 with 1 Axes>"
      ]
     },
     "metadata": {},
     "output_type": "display_data"
    }
   ],
   "source": [
    "fig, ax = plt.subplots(nrows=1, ncols=1, figsize=(10, 7))\n",
    "\n",
    "# Plot distribusi sample\n",
    "x_sample = np.arange(-4., 4., 0.001)\n",
    "y_sample = stats.norm.pdf(x_sample, 0, 1)\n",
    "ax.plot(x_sample, y_sample,\n",
    "        color = \"blue\")\n",
    "\n",
    "# Plot region from alpha (region from reject H0)\n",
    "x_alpha = np.arange(z_critical, 4., 0.001)\n",
    "y_alpha = stats.norm.pdf(x_alpha)\n",
    "ax.fill_between(x = x_alpha,\n",
    "                y1 = y_alpha,\n",
    "                facecolor = \"red\", \n",
    "                alpha = .35,\n",
    "                label = \"alpha region\")\n",
    "\n",
    "\n",
    "# Plot region from sampel\n",
    "x_test = np.arange(z_stat, 4., 0.001)\n",
    "y_test = stats.norm.pdf(x_test)\n",
    "ax.fill_between(x = x_test,\n",
    "                y1 = y_test,\n",
    "                facecolor = \"green\", \n",
    "                alpha = .35,\n",
    "                label = \"test region\")\n",
    "\n",
    "\n",
    "# Plot vertical line alpha\n",
    "ax.axvline(z_critical, \n",
    "           color = \"red\",\n",
    "           linestyle = \"--\",\n",
    "           label = \"z-critical\")\n",
    "\n",
    "# Plot vertical line test\n",
    "ax.axvline(z_stat, \n",
    "           color = \"green\",\n",
    "           linestyle = \"--\",\n",
    "           label = \"z-stat\")\n",
    "\n",
    "# Styling plot\n",
    "ax.set_xlabel(\"z\", fontsize=16)\n",
    "ax.set_ylabel(\"density\", fontsize=16)\n",
    "\n",
    "plt.title(f'\\n\\n z-statistic = {np.round(z_stat, 4)}, z-critical = {np.round(z_critical,4)}, alpha = {alpha}')\n",
    "plt.legend(fontsize=16)\n",
    "plt.show()"
   ]
  },
  {
   "cell_type": "markdown",
   "id": "0f01d91c",
   "metadata": {},
   "source": [
    "- Based on the graph, the test statistic (z-statistic = -1.3236) lies to the left of the normal distribution and does not exceed the z-critical value (z-critical = 1.6449)\n",
    "- Since the z-statistic falls within the acceptance region (green), we fail to reject the null hypothesis.\n",
    "- At a significance level of 0.05, there is insufficient evidence to conclude that the tested effect or difference is statistically significant."
   ]
  },
  {
   "cell_type": "markdown",
   "id": "ce318de4",
   "metadata": {},
   "source": [
    "## Conclusion\n",
    "- The difference in conversion rates is not statistically significant.\n",
    "- So, we can say The new landing page does not provide sufficient statistical evidence that it significantly increases revenue."
   ]
  },
  {
   "cell_type": "markdown",
   "id": "f763e7c8",
   "metadata": {},
   "source": []
  }
 ],
 "metadata": {
  "kernelspec": {
   "display_name": "base",
   "language": "python",
   "name": "python3"
  },
  "language_info": {
   "codemirror_mode": {
    "name": "ipython",
    "version": 3
   },
   "file_extension": ".py",
   "mimetype": "text/x-python",
   "name": "python",
   "nbconvert_exporter": "python",
   "pygments_lexer": "ipython3",
   "version": "3.11.9"
  }
 },
 "nbformat": 4,
 "nbformat_minor": 5
}
